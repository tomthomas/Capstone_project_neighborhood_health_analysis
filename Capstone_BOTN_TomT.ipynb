{
  "nbformat": 4,
  "nbformat_minor": 0,
  "metadata": {
    "colab": {
      "name": "Capstone - BOTN - TomT.ipynb",
      "provenance": [],
      "mount_file_id": "1uTqtYO2ENXEhCiBNIqWvcYWhzxbDfC0I",
      "authorship_tag": "ABX9TyMOvUfFKnJ1xPINVpXAbw0V",
      "include_colab_link": true
    },
    "kernelspec": {
      "name": "python3",
      "display_name": "Python 3"
    },
    "language_info": {
      "name": "python"
    }
  },
  "cells": [
    {
      "cell_type": "markdown",
      "metadata": {
        "id": "view-in-github",
        "colab_type": "text"
      },
      "source": [
        "<a href=\"https://colab.research.google.com/github/tomthomas/Coursera_Capstone/blob/main/Capstone_BOTN_TomT.ipynb\" target=\"_parent\"><img src=\"https://colab.research.google.com/assets/colab-badge.svg\" alt=\"Open In Colab\"/></a>"
      ]
    },
    {
      "cell_type": "markdown",
      "metadata": {
        "id": "6PUPZCg__UNf"
      },
      "source": [
        "# Capstone Project - The Battle of the Neighborhoods (Week 2)\n",
        "### Applied Data Science Capstone by IBM/Coursera\n"
      ]
    },
    {
      "cell_type": "markdown",
      "metadata": {
        "id": "DiPLmZPh_Zi8"
      },
      "source": [
        "## Table of contents\n",
        "* [Introduction: Business Problem](#introduction)\n",
        "* [Data](#data)\n",
        "* [Methodology](#methodology)\n",
        "* [Analysis](#analysis)\n",
        "* [Results and Discussion](#results)\n",
        "* [Conclusion](#conclusion)"
      ]
    },
    {
      "cell_type": "markdown",
      "metadata": {
        "id": "rIXhtJxr__96"
      },
      "source": [
        "## Introduction: Business Problem <a name=\"introduction\"></a>"
      ]
    },
    {
      "cell_type": "markdown",
      "metadata": {
        "id": "_6rZFADJDZ1K"
      },
      "source": [
        "The US is notorious for being one among the highest ranked countries in terms of obesity rates. The highly commercialized fast-food industry makes it difficult for the average American to stay healthy, especially in large cities, where advertisements are more prominent. This report explores how one could tackle the temptations of living in a large metropolitan city and remain healthy. \n",
        "\n",
        "For this analysis, the aim is to focus on the two main factors at hand when it comes to an individual who may be attempting to stay healthy - **fast-food restaurants** and **fitness centers**. We will analyze the data to observe any patterns between these two types. Whether there are more fitness centers where there are fast-food restaurants or the opposite? And if there can be anything that can be done to reduce the desire to visit a fast-food chain restaurant. \n"
      ]
    },
    {
      "cell_type": "markdown",
      "metadata": {
        "id": "XfXmBfsjDuXt"
      },
      "source": [
        "## Data <a name=\"Data\"></a>"
      ]
    },
    {
      "cell_type": "markdown",
      "metadata": {
        "id": "7RSB7YR0EWr4"
      },
      "source": [
        "For a thorough analysis, we require the following data:\n",
        "\n",
        "\n",
        "*   **List of Neighborhoods in a Metropolitan City** - We have chosen **Los Angeles** for this project, which is a large city with a lot of fast food options and fitness options allowing for a more concrete observation. We will collect this information from \n",
        "*   **Department of Public Health Data for LA County**  - This dataset will be useful for evaluating correlation between obesity rates and the two main factors.\n",
        "*  **Geospatial Data using Geocoder Package**  - We will use this package to capture the required Latitudes and Longitudes for LA County.\n",
        "*   **FourSquare Venue Data**  - We will utilize the FourSquare API to collect venue information for the different neighborhoods.\n"
      ]
    },
    {
      "cell_type": "code",
      "metadata": {
        "colab": {
          "base_uri": "https://localhost:8080/"
        },
        "id": "Os1IlssvXhBy",
        "outputId": "316f672f-0835-4b1d-ca76-cf9bff7dd194"
      },
      "source": [
        "#importing requried libraries\n",
        "\n",
        "import pandas as pd\n",
        "import requests\n",
        "import numpy as np\n",
        "import folium\n",
        "import matplotlib.cm as cm\n",
        "import matplotlib.colors as colors\n",
        "from bs4 import BeautifulSoup\n",
        "\n",
        "from geopy.geocoders import Nominatim\n",
        "from pandas.io.json import json_normalize \n",
        "from sklearn.cluster import KMeans\n",
        "\n",
        "print(\"Import complete!\")"
      ],
      "execution_count": 6,
      "outputs": [
        {
          "output_type": "stream",
          "text": [
            "Import complete!\n"
          ],
          "name": "stdout"
        }
      ]
    },
    {
      "cell_type": "markdown",
      "metadata": {
        "id": "ChlBR6uUVJ7D"
      },
      "source": [
        "#### Getting Neighborhood Data"
      ]
    },
    {
      "cell_type": "markdown",
      "metadata": {
        "id": "a1EjkOqRVqVH"
      },
      "source": [
        "The first data we need to import into our project is the **List of Neighborhoods in a Metropolitan City**.\n",
        "\n",
        "Data Source: https://maps.latimes.com/neighborhoods/neighborhood/list/\n",
        "\n",
        "This data will be valuable to group the different cities Neighborhoods of LA into a Region/Borough. We will utilize the BeautifulSoup package to extrapolate the list found on the LA Times website. \n",
        "\n",
        "Beautiful Soup will convert the HTML Text into a table and then we can convert it into a table.\n"
      ]
    },
    {
      "cell_type": "code",
      "metadata": {
        "id": "Qkza2t2zVQa9"
      },
      "source": [
        "page = requests.get('https://maps.latimes.com/neighborhoods/neighborhood/list/').text\n",
        "soup = BeautifulSoup(page,'html5lib')\n",
        "tbl = str(soup.table)\n",
        "\n",
        "list1 = pd.read_html(tbl)\n",
        "la_list = list1[0]\n",
        "la_list.rename(columns={'Name':'Neighborhood'}, inplace =True)\n",
        "la_list"
      ],
      "execution_count": null,
      "outputs": []
    },
    {
      "cell_type": "markdown",
      "metadata": {
        "id": "APihGhscnNp0"
      },
      "source": [
        "#### Getting Public Health Data"
      ]
    },
    {
      "cell_type": "markdown",
      "metadata": {
        "id": "Sm_rWlxinUKp"
      },
      "source": [
        "Next up is the data that could be key to our analysis. \n",
        "We are going to import the obesity data for various neighborhoods of LA.\n",
        "\n",
        "Data source: http://publichealth.lacounty.gov/\n",
        "\n",
        "We are going to get two types of indicators for our analysis:\n",
        "\n",
        "1.   The Percentage of Adults Meeting Recommended Guidleines for Physical Activity\n",
        "2.   The Percentage of Adults Who are Obese\n",
        "\n",
        "The data is stored as .xlsx files which we will import and clean so that they can be ready for analysis. \n",
        "\n"
      ]
    },
    {
      "cell_type": "code",
      "metadata": {
        "id": "_QDXpNP4wZBY"
      },
      "source": [
        "from google.colab import files\n",
        "uploaded = files.upload()"
      ],
      "execution_count": null,
      "outputs": []
    },
    {
      "cell_type": "code",
      "metadata": {
        "id": "WDohAC7nzSlL"
      },
      "source": [
        "import io\n",
        "obs = pd.read_excel('PercentObeseAdults.xlsx')"
      ],
      "execution_count": null,
      "outputs": []
    },
    {
      "cell_type": "code",
      "metadata": {
        "id": "XyndzpNXXvH_"
      },
      "source": [
        "fit = pd.read_excel(r\"C:\\Users\\owner\\Documents\\Datasets\\Coursera Capstone\\PercentObeseAdults.xlsx\", engine='openpyxl')\n",
        "fit.head()"
      ],
      "execution_count": null,
      "outputs": []
    },
    {
      "cell_type": "code",
      "metadata": {
        "id": "ICHewDM2vexM"
      },
      "source": [
        ""
      ],
      "execution_count": null,
      "outputs": []
    }
  ]
}